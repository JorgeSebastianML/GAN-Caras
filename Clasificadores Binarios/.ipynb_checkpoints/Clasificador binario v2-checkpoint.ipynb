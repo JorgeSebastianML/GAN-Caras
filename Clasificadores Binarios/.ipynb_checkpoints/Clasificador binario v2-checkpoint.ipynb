{
 "cells": [
  {
   "cell_type": "code",
   "execution_count": 2,
   "metadata": {},
   "outputs": [
    {
     "name": "stdout",
     "output_type": "stream",
     "text": [
      "Imagen Blanco y negro, 040_0049.jpg\n",
      "Imagen Blanco y negro, 043_0023.jpg\n",
      "Imagen Blanco y negro, 044_0041.jpg\n",
      "Imagen Blanco y negro, 044_0098.jpg\n",
      "Imagen Blanco y negro, 058_0053.jpg\n",
      "Imagen Blanco y negro, 064_0131.jpg\n",
      "Imagen Blanco y negro, 082_0080.jpg\n",
      "Imagen Blanco y negro, 083_0014.jpg\n",
      "Imagen Blanco y negro, 110_0030.jpg\n",
      "Imagen Blanco y negro, 111_0065.jpg\n",
      "Imagen Blanco y negro, 123_0079.jpg\n",
      "Imagen Blanco y negro, 126_0238.jpg\n",
      "Imagen Blanco y negro, 140_0026.jpg\n",
      "Imagen Blanco y negro, 144_0036.jpg\n",
      "Imagen Blanco y negro, 144_0082.jpg\n",
      "Imagen Blanco y negro, 165_0025.jpg\n",
      "Imagen Blanco y negro, 167_0029.jpg\n",
      "Imagen Blanco y negro, 171_0003.jpg\n",
      "Imagen Blanco y negro, 172_0043.jpg\n",
      "Imagen Blanco y negro, 172_0056.jpg\n",
      "Imagen Blanco y negro, 177_0047.jpg\n",
      "Imagen Blanco y negro, 184_0084.jpg\n",
      "Imagen Blanco y negro, 195_0039.jpg\n",
      "Imagen Blanco y negro, 214_0074.jpg\n",
      "Imagen Blanco y negro, 225_0090.jpg\n",
      "Imagen Blanco y negro, 226_0080.jpg\n",
      "Imagen Blanco y negro, 229_0036.jpg\n",
      "Imagen Blanco y negro, 234_0044.jpg\n",
      "Imagen Blanco y negro, 252_0011.jpg\n",
      "Imagen Blanco y negro, 252_0023.jpg\n",
      "Imagen Blanco y negro, 252_0046.jpg\n",
      "Imagen Blanco y negro, 252_0052.jpg\n",
      "Imagen Blanco y negro, 252_0066.jpg\n",
      "Imagen Blanco y negro, 252_0068.jpg\n",
      "Imagen Blanco y negro, 252_0070.jpg\n",
      "Imagen Blanco y negro, 252_0074.jpg\n",
      "Imagen Blanco y negro, 252_0076.jpg\n",
      "Imagen Blanco y negro, 252_0077.jpg\n",
      "Imagen Blanco y negro, 252_0085.jpg\n",
      "Imagen Blanco y negro, 252_0091.jpg\n",
      "Imagen Blanco y negro, 252_0100.jpg\n",
      "Imagen Blanco y negro, 252_0104.jpg\n"
     ]
    }
   ],
   "source": [
    "import os\n",
    "from PIL import Image\n",
    "import numpy as np                # funciones numéricas (arrays, matrices, etc.)\n",
    "import matplotlib.pyplot as plt   # funciones para representación gráfica\n",
    "#from skimage import io\n",
    " \n",
    "carpeta = \"../1Dataset/\"\n",
    "cont = 0\n",
    "width = 28\n",
    "height = 28\n",
    "for archivo in os.listdir(carpeta):\n",
    "    cont = cont + 1\n",
    "I = np.zeros([cont, width, height])\n",
    "cont = 0\n",
    "for archivo in os.listdir(carpeta):\n",
    "    #print(os.path.join(carpeta,archivo))\n",
    "    foto = Image.open(os.path.join(carpeta,archivo))\n",
    "    datos = foto.getdata()\n",
    " \n",
    "    #para el calculo del promedio se utilizara la division entera con el operador de division doble \"//\" para evitar decimales\n",
    "\n",
    "    promedio = [(datos[x][0] + datos[x][1] + datos[x][2]) // 3 for x in range(len(datos))]\n",
    "    imagen_gris = Image.new('L', foto.size)\n",
    "    imagen_gris.putdata(promedio)\n",
    "    imagen_gris2 = imagen_gris.resize((width, height), Image.NEAREST) \n",
    "    I[cont, :, :] = imagen_gris2\n",
    "    #I[cont, :, :] = io.imread(os.path.join(carpeta,archivo))\n",
    "    cont = cont + 1\n",
    "    #plt.imshow(I)\n",
    "    \n",
    "\n",
    "carpeta = \"../2Dataset/\"\n",
    "cont2 = 0\n",
    "for archivo in os.listdir(carpeta):\n",
    "    cont2 = cont2 + 1\n",
    "I2 = np.zeros([cont2, width, height])\n",
    "cont2 = 0\n",
    "for archivo in os.listdir(carpeta):\n",
    "    #print(os.path.join(carpeta,archivo))\n",
    "    \n",
    "    if np.random.random() < 0.12:\n",
    "        try: \n",
    "            foto2 = Image.open(os.path.join(carpeta,archivo))\n",
    "            datos2 = foto2.getdata()\n",
    "            #para el calculo del promedio se utilizara la division entera con el operador de division doble \"//\" para evitar decimales\n",
    "            promedio2 = [(datos2[x][0] + datos2[x][1] + datos2[x][2]) // 3 for x in range(len(datos2))]\n",
    "            imagen_gris3 = Image.new('L', foto2.size)\n",
    "            imagen_gris3.putdata(promedio2)\n",
    "            imagen_gris4 = imagen_gris3.resize((width, height), Image.NEAREST) \n",
    "            I2[cont2, :, :] = imagen_gris4\n",
    "            #I[cont, :, :] = io.imread(os.path.join(carpeta,archivo))\n",
    "            cont2 = cont2 + 1\n",
    "            #plt.imshow(I)\n",
    "        except:\n",
    "            print(\"Imagen Blanco y negro, \" + archivo)\n",
    "        "
   ]
  },
  {
   "cell_type": "code",
   "execution_count": 40,
   "metadata": {},
   "outputs": [
    {
     "data": {
      "text/plain": [
       "3109"
      ]
     },
     "execution_count": 40,
     "metadata": {},
     "output_type": "execute_result"
    }
   ],
   "source": [
    "cont2"
   ]
  },
  {
   "cell_type": "code",
   "execution_count": 21,
   "metadata": {},
   "outputs": [],
   "source": [
    "I3 = np.zeros([cont, width * height])\n",
    "for i in range(0, cont):\n",
    "        I3[i, :] = I[i, :, :].ravel()\n",
    "I4 = np.zeros([cont2, width * height])\n",
    "for i in range(0, cont2):\n",
    "        I4[i, :] = I2[i, :, :].ravel()"
   ]
  },
  {
   "cell_type": "code",
   "execution_count": 143,
   "metadata": {
    "scrolled": true
   },
   "outputs": [
    {
     "data": {
      "text/plain": [
       "StandardScaler(copy=True, with_mean=True, with_std=True)"
      ]
     },
     "execution_count": 143,
     "metadata": {},
     "output_type": "execute_result"
    },
    {
     "name": "stdout",
     "output_type": "stream",
     "text": [
      "Explained variance percentage = 0.96\n"
     ]
    },
    {
     "data": {
      "text/plain": [
       "OneClassSVM(cache_size=200, coef0=0.0, degree=3, gamma='auto', kernel='rbf',\n",
       "      max_iter=-1, nu=0.27, random_state=None, shrinking=True, tol=0.001,\n",
       "      verbose=False)"
      ]
     },
     "execution_count": 143,
     "metadata": {},
     "output_type": "execute_result"
    },
    {
     "name": "stderr",
     "output_type": "stream",
     "text": [
      "C:\\Users\\af.zambrano82\\AppData\\Local\\Continuum\\anaconda3\\lib\\site-packages\\sklearn\\ensemble\\iforest.py:223: FutureWarning: behaviour=\"old\" is deprecated and will be removed in version 0.22. Please use behaviour=\"new\", which makes the decision_function change to match other anomaly detection algorithm API.\n",
      "  FutureWarning)\n"
     ]
    },
    {
     "data": {
      "text/plain": [
       "IsolationForest(behaviour='old', bootstrap=True, contamination=0.27,\n",
       "        max_features=1.0, max_samples=1.0, n_estimators=400, n_jobs=-1,\n",
       "        random_state=None, verbose=0)"
      ]
     },
     "execution_count": 143,
     "metadata": {},
     "output_type": "execute_result"
    },
    {
     "name": "stderr",
     "output_type": "stream",
     "text": [
      "C:\\Users\\af.zambrano82\\AppData\\Local\\Continuum\\anaconda3\\lib\\site-packages\\sklearn\\ensemble\\iforest.py:417: DeprecationWarning: threshold_ attribute is deprecated in 0.20 and will be removed in 0.22.\n",
      "  \" be removed in 0.22.\", DeprecationWarning)\n",
      "C:\\Users\\af.zambrano82\\AppData\\Local\\Continuum\\anaconda3\\lib\\site-packages\\sklearn\\ensemble\\iforest.py:417: DeprecationWarning: threshold_ attribute is deprecated in 0.20 and will be removed in 0.22.\n",
      "  \" be removed in 0.22.\", DeprecationWarning)\n"
     ]
    },
    {
     "name": "stdout",
     "output_type": "stream",
     "text": [
      "Accurracy Isolation Forest: 0.7311605723370429\n",
      "Accurracy SVM 0.736248012718601\n",
      "Model Saved\n"
     ]
    }
   ],
   "source": [
    "from sklearn.preprocessing import StandardScaler\n",
    "from sklearn.decomposition import PCA\n",
    "from sklearn.ensemble import IsolationForest\n",
    "from sklearn import svm\n",
    "from sklearn.externals import joblib\n",
    "\n",
    "# Apply standard scaler to output from resnet50\n",
    "X_train = I3[:10000, :]\n",
    "X_test = I3[10001:, :]\n",
    "\n",
    "ss = StandardScaler()\n",
    "ss.fit(X_train)\n",
    "X_train = ss.transform(X_train)\n",
    "X_test = ss.transform(X_test)\n",
    "\n",
    "X_test2 = ss.transform(I4)\n",
    "# Take PCA to reduce feature space dimensionality\n",
    "pca = PCA(n_components=400, whiten=True)\n",
    "pca = pca.fit(X_train)\n",
    "print('Explained variance percentage = %0.2f' % sum(pca.explained_variance_ratio_))\n",
    "X_train = pca.transform(X_train)\n",
    "X_test = pca.transform(X_test)\n",
    "X_test2 = pca.transform(X_test2)\n",
    "# Train classifier and obtain predictions for OC-SVM\n",
    "oc_svm_clf = svm.OneClassSVM(gamma='auto', kernel='rbf', nu=0.27)  # Obtained using grid search\n",
    "\n",
    "if_clf = IsolationForest(bootstrap =True, n_jobs = -1, contamination=0.27, max_features=1.0, max_samples=1.0, n_estimators=400)  # Obtained using grid search\n",
    "\n",
    "oc_svm_clf.fit(X_train)\n",
    "\n",
    "if_clf.fit(X_train)\n",
    "\n",
    "oc_svm_preds = oc_svm_clf.predict(X_test)\n",
    "\n",
    "if_preds = if_clf.predict(X_test)\n",
    "\n",
    "oc_svm_preds2 = oc_svm_clf.predict(X_test2)\n",
    "\n",
    "if_preds2 = if_clf.predict(X_test2)\n",
    "\n",
    "Accuracy = 0\n",
    "matrix_C = np.zeros([2, 2])\n",
    "for X2 in range(0, if_preds.shape[0]):\n",
    "    if if_preds[X2]==1: #Verdaderos Positivos\n",
    "        Accuracy = Accuracy + 1\n",
    "        matrix_C[0, 0] = matrix_C[0, 0] + 1 \n",
    "    else:\n",
    "        matrix_C[0, 1] = matrix_C[0, 1] + 1 \n",
    "    \n",
    "for X2 in range(0, if_preds2.shape[0]):\n",
    "    if if_preds2[X2]==-1: #Verdaderos Negativos\n",
    "        Accuracy = Accuracy + 1\n",
    "        matrix_C[1, 1] = matrix_C[1, 1] + 1 \n",
    "    else:\n",
    "        matrix_C[1, 0] = matrix_C[1, 0] + 1 \n",
    "Accuracy = Accuracy / (if_preds.shape[0]+if_preds2.shape[0]); \n",
    "print(\"Accurracy Isolation Forest: \" + str(Accuracy))\n",
    "\n",
    "Accuracy2 = 0\n",
    "matrix_C2 = np.zeros([2, 2])\n",
    "for X2 in range(0, oc_svm_preds.shape[0]):\n",
    "    if oc_svm_preds[X2]==1: #Verdaderos Positivos\n",
    "        Accuracy2 = Accuracy2 + 1\n",
    "        matrix_C2[0, 0] = matrix_C2[0, 0] + 1 \n",
    "    else:\n",
    "        matrix_C2[0, 1] = matrix_C2[0, 1] + 1 \n",
    "for X2 in range(0, oc_svm_preds2.shape[0]):\n",
    "    if oc_svm_preds2[X2]==-1: #Verdaderos Negativos\n",
    "        Accuracy2 = Accuracy2 + 1\n",
    "        matrix_C2[1, 1] = matrix_C2[1, 1] + 1 \n",
    "    else:\n",
    "        matrix_C2[1, 0] = matrix_C2[1, 0] + 1 \n",
    "Accuracy2 = Accuracy2 / (oc_svm_preds.shape[0] + oc_svm_preds2.shape[0])\n",
    "print(\"Accurracy SVM \" + str(Accuracy2))\n",
    "\n",
    "vFileName = 'Clasificador_de_caras.joblib.pkl'\n",
    "vFilePathRelative = 'Save Models/' + vFileName\n",
    "vDirPath = os.path.dirname(os.path.realpath(vFilePathRelative))\n",
    "vFilePath = os.path.join(vDirPath, vFileName)\n",
    "if Accuracy > Accuracy2:\n",
    "    vDump = joblib.dump(if_clf, vFilePathRelative, compress = 9)\n",
    "else: \n",
    "    vDump = joblib.dump(oc_svm_clf, vFilePathRelative, compress = 9)\n",
    "print(\"Model Saved\")"
   ]
  },
  {
   "cell_type": "code",
   "execution_count": 65,
   "metadata": {
    "scrolled": true
   },
   "outputs": [],
   "source": [
    "import sys\n",
    "import numpy\n",
    "numpy.set_printoptions(threshold=sys.maxsize)"
   ]
  },
  {
   "cell_type": "code",
   "execution_count": 148,
   "metadata": {},
   "outputs": [
    {
     "data": {
      "text/plain": [
       "array([ 1,  1, -1,  1,  1,  1,  1,  1,  1,  1,  1,  1,  1,  1, -1,  1,  1,\n",
       "        1,  1,  1,  1,  1,  1,  1,  1,  1,  1, -1,  1,  1, -1,  1, -1, -1,\n",
       "       -1,  1,  1,  1,  1,  1, -1,  1,  1,  1, -1,  1, -1,  1,  1,  1,  1,\n",
       "        1, -1,  1,  1,  1,  1, -1,  1,  1,  1,  1, -1,  1,  1, -1, -1,  1,\n",
       "        1, -1,  1, -1,  1,  1,  1, -1,  1, -1,  1,  1, -1, -1, -1,  1,  1,\n",
       "        1,  1,  1, -1,  1,  1,  1,  1,  1,  1, -1,  1,  1,  1,  1,  1,  1,\n",
       "        1, -1,  1,  1,  1, -1,  1, -1,  1,  1,  1,  1,  1, -1, -1,  1, -1,\n",
       "        1,  1,  1, -1,  1, -1,  1, -1,  1,  1, -1, -1,  1,  1, -1,  1, -1,\n",
       "       -1, -1,  1, -1, -1, -1, -1,  1,  1, -1, -1,  1,  1,  1,  1,  1,  1,\n",
       "        1,  1,  1,  1, -1,  1, -1,  1,  1, -1,  1,  1, -1, -1,  1,  1, -1,\n",
       "        1, -1,  1,  1,  1,  1, -1,  1, -1,  1,  1,  1,  1,  1,  1,  1,  1,\n",
       "        1,  1,  1,  1, -1, -1,  1,  1,  1,  1,  1, -1,  1,  1, -1, -1,  1,\n",
       "        1, -1, -1, -1, -1,  1,  1,  1,  1,  1,  1, -1,  1,  1,  1, -1, -1,\n",
       "        1, -1,  1,  1,  1, -1,  1,  1,  1,  1, -1,  1,  1, -1,  1,  1, -1,\n",
       "       -1, -1, -1,  1,  1, -1,  1,  1, -1, -1, -1,  1,  1,  1,  1, -1, -1,\n",
       "        1,  1,  1, -1, -1, -1,  1,  1,  1,  1,  1,  1,  1,  1,  1,  1,  1,\n",
       "       -1,  1,  1,  1,  1,  1,  1,  1, -1,  1,  1,  1,  1,  1,  1,  1, -1,\n",
       "       -1, -1,  1,  1, -1,  1, -1,  1, -1,  1,  1,  1,  1,  1,  1,  1,  1,\n",
       "        1,  1,  1,  1, -1, -1,  1,  1, -1,  1,  1,  1, -1, -1,  1,  1,  1,\n",
       "        1,  1, -1, -1,  1,  1, -1, -1, -1,  1, -1,  1, -1, -1, -1,  1, -1,\n",
       "        1,  1,  1,  1, -1, -1,  1,  1,  1,  1,  1, -1,  1,  1,  1,  1,  1,\n",
       "        1,  1,  1,  1,  1, -1, -1, -1,  1,  1,  1,  1, -1,  1, -1,  1,  1,\n",
       "        1,  1, -1,  1,  1, -1,  1,  1,  1, -1, -1,  1, -1,  1,  1,  1, -1,\n",
       "        1,  1,  1,  1,  1, -1, -1,  1,  1,  1,  1,  1,  1,  1, -1,  1, -1,\n",
       "        1, -1, -1, -1,  1,  1,  1,  1,  1,  1,  1,  1,  1,  1, -1, -1,  1,\n",
       "        1, -1,  1, -1,  1,  1,  1, -1,  1, -1, -1,  1, -1,  1, -1,  1,  1,\n",
       "        1,  1,  1,  1, -1, -1,  1,  1,  1, -1, -1, -1,  1,  1, -1, -1, -1,\n",
       "        1, -1, -1,  1,  1,  1,  1,  1,  1,  1,  1,  1,  1,  1,  1,  1,  1,\n",
       "       -1,  1,  1,  1,  1,  1,  1,  1,  1,  1,  1,  1,  1,  1,  1,  1,  1,\n",
       "        1, -1, -1, -1,  1,  1,  1,  1,  1,  1,  1, -1,  1,  1,  1,  1,  1,\n",
       "        1,  1,  1,  1,  1,  1, -1,  1, -1,  1,  1,  1,  1,  1,  1, -1,  1,\n",
       "        1,  1,  1,  1,  1,  1,  1,  1,  1,  1,  1,  1,  1, -1,  1,  1,  1,\n",
       "       -1, -1,  1,  1, -1,  1,  1,  1,  1,  1,  1,  1,  1,  1,  1,  1,  1,\n",
       "        1,  1, -1,  1,  1,  1,  1, -1,  1,  1,  1, -1,  1,  1,  1, -1, -1,\n",
       "        1,  1,  1, -1,  1,  1,  1,  1,  1, -1,  1,  1, -1, -1,  1,  1,  1,\n",
       "       -1,  1,  1,  1,  1,  1,  1,  1, -1,  1,  1,  1,  1,  1, -1,  1, -1,\n",
       "        1,  1,  1,  1, -1,  1, -1,  1,  1,  1,  1,  1, -1,  1,  1,  1, -1,\n",
       "       -1, -1, -1, -1,  1,  1,  1,  1, -1,  1, -1, -1, -1, -1, -1, -1,  1,\n",
       "        1,  1, -1, -1,  1,  1, -1, -1,  1,  1,  1,  1,  1,  1,  1,  1, -1,\n",
       "        1, -1,  1,  1,  1,  1,  1,  1, -1, -1,  1,  1,  1,  1,  1,  1, -1,\n",
       "        1,  1,  1,  1,  1,  1,  1,  1,  1,  1, -1,  1,  1,  1, -1,  1,  1,\n",
       "        1,  1,  1,  1, -1,  1,  1,  1, -1, -1,  1, -1,  1,  1,  1,  1,  1,\n",
       "        1,  1,  1, -1,  1,  1, -1,  1,  1,  1,  1,  1,  1,  1, -1,  1,  1,\n",
       "        1, -1,  1,  1,  1, -1, -1,  1,  1,  1,  1,  1, -1,  1, -1,  1,  1,\n",
       "        1,  1,  1, -1,  1, -1, -1,  1,  1,  1,  1, -1,  1, -1,  1,  1,  1,\n",
       "        1, -1,  1, -1,  1,  1,  1,  1,  1,  1,  1,  1,  1,  1,  1,  1, -1,\n",
       "       -1, -1, -1, -1, -1, -1,  1,  1,  1,  1,  1,  1,  1,  1,  1,  1,  1,\n",
       "        1,  1,  1,  1,  1,  1, -1,  1, -1,  1,  1, -1, -1,  1,  1,  1, -1,\n",
       "        1, -1,  1, -1,  1,  1,  1,  1,  1,  1,  1,  1,  1,  1,  1,  1,  1,\n",
       "        1,  1,  1, -1,  1,  1,  1,  1,  1,  1,  1,  1, -1,  1,  1,  1,  1,\n",
       "        1,  1,  1,  1,  1,  1, -1,  1,  1,  1,  1,  1,  1,  1,  1,  1,  1,\n",
       "        1,  1,  1,  1,  1,  1,  1,  1,  1,  1,  1, -1,  1, -1,  1,  1, -1,\n",
       "       -1, -1,  1,  1,  1,  1,  1,  1, -1,  1,  1,  1,  1,  1,  1,  1,  1,\n",
       "       -1, -1,  1,  1, -1, -1, -1,  1, -1, -1,  1,  1,  1, -1,  1, -1,  1,\n",
       "        1,  1,  1,  1,  1, -1, -1,  1,  1,  1,  1,  1, -1,  1,  1,  1, -1,\n",
       "        1,  1,  1,  1,  1, -1,  1,  1, -1,  1,  1,  1,  1, -1,  1,  1,  1,\n",
       "        1,  1,  1,  1,  1, -1,  1,  1,  1, -1,  1,  1, -1,  1,  1,  1,  1,\n",
       "        1,  1,  1,  1,  1,  1,  1, -1,  1, -1,  1,  1,  1,  1,  1,  1,  1,\n",
       "        1,  1, -1,  1, -1, -1,  1, -1,  1,  1, -1,  1,  1, -1, -1,  1,  1,\n",
       "        1, -1, -1,  1,  1, -1,  1,  1,  1,  1,  1,  1,  1,  1,  1,  1, -1,\n",
       "        1,  1,  1,  1,  1,  1,  1,  1, -1,  1,  1,  1, -1,  1,  1,  1,  1,\n",
       "        1,  1,  1,  1, -1,  1,  1,  1, -1, -1, -1, -1,  1, -1,  1,  1,  1,\n",
       "        1, -1,  1,  1, -1,  1, -1,  1,  1, -1, -1,  1,  1, -1,  1,  1,  1,\n",
       "        1,  1,  1,  1,  1,  1,  1, -1, -1, -1,  1,  1,  1, -1, -1,  1, -1,\n",
       "        1, -1, -1, -1, -1,  1,  1, -1,  1,  1,  1,  1,  1,  1, -1,  1,  1,\n",
       "        1, -1, -1,  1,  1, -1,  1,  1,  1,  1,  1,  1,  1,  1,  1,  1,  1,\n",
       "       -1,  1,  1,  1,  1,  1, -1, -1, -1, -1, -1,  1, -1, -1,  1, -1, -1,\n",
       "        1,  1, -1,  1, -1, -1, -1,  1,  1, -1,  1,  1,  1,  1, -1, -1,  1,\n",
       "       -1, -1,  1,  1,  1,  1,  1,  1, -1, -1, -1, -1, -1, -1,  1,  1,  1,\n",
       "       -1, -1, -1,  1,  1,  1,  1,  1,  1,  1,  1,  1,  1,  1,  1,  1,  1,\n",
       "        1,  1,  1,  1,  1,  1,  1,  1, -1,  1,  1,  1,  1,  1,  1, -1, -1,\n",
       "        1,  1,  1, -1,  1, -1, -1,  1,  1,  1, -1,  1,  1,  1,  1, -1,  1,\n",
       "        1,  1,  1, -1, -1, -1,  1,  1, -1,  1,  1,  1,  1,  1,  1,  1,  1,\n",
       "        1, -1,  1, -1,  1,  1, -1, -1,  1,  1,  1,  1,  1,  1,  1,  1, -1,\n",
       "        1,  1,  1,  1,  1,  1,  1, -1, -1,  1, -1,  1, -1,  1, -1, -1,  1,\n",
       "        1, -1, -1,  1, -1,  1, -1, -1,  1,  1,  1,  1,  1,  1,  1,  1,  1,\n",
       "        1,  1,  1,  1,  1,  1, -1,  1,  1, -1, -1, -1,  1,  1,  1,  1,  1,\n",
       "       -1, -1, -1,  1,  1,  1, -1,  1,  1,  1,  1,  1,  1,  1,  1,  1,  1,\n",
       "        1,  1,  1,  1, -1, -1, -1, -1, -1,  1, -1, -1,  1,  1,  1,  1,  1,\n",
       "        1,  1,  1, -1,  1,  1,  1, -1,  1,  1,  1, -1,  1,  1,  1,  1, -1,\n",
       "        1, -1,  1,  1, -1,  1,  1,  1,  1, -1,  1, -1,  1,  1, -1, -1,  1,\n",
       "       -1,  1,  1, -1, -1, -1, -1,  1, -1, -1,  1, -1,  1,  1, -1,  1,  1,\n",
       "        1,  1,  1, -1, -1,  1,  1,  1,  1,  1,  1,  1, -1,  1, -1,  1,  1,\n",
       "        1,  1,  1,  1, -1, -1, -1, -1,  1,  1,  1,  1,  1,  1, -1, -1, -1,\n",
       "        1,  1,  1,  1,  1,  1,  1,  1,  1, -1,  1,  1,  1, -1, -1,  1,  1,\n",
       "        1,  1,  1,  1,  1,  1,  1, -1,  1,  1, -1,  1, -1,  1,  1,  1, -1,\n",
       "        1,  1,  1,  1,  1,  1,  1,  1,  1,  1,  1, -1,  1,  1,  1, -1, -1,\n",
       "       -1,  1,  1,  1,  1,  1, -1,  1,  1,  1, -1, -1,  1,  1,  1,  1,  1,\n",
       "        1,  1,  1, -1,  1,  1,  1,  1,  1, -1,  1,  1,  1,  1,  1,  1,  1,\n",
       "        1, -1, -1, -1,  1,  1,  1, -1,  1,  1,  1,  1,  1, -1,  1,  1, -1,\n",
       "       -1, -1, -1,  1,  1,  1, -1,  1,  1,  1, -1,  1,  1, -1, -1, -1,  1,\n",
       "        1, -1,  1, -1, -1,  1,  1,  1, -1,  1, -1,  1,  1,  1,  1,  1,  1,\n",
       "        1, -1,  1,  1, -1,  1,  1,  1,  1, -1,  1,  1,  1,  1, -1, -1, -1,\n",
       "        1,  1,  1,  1,  1,  1,  1,  1,  1,  1,  1, -1, -1,  1,  1,  1, -1,\n",
       "        1,  1,  1,  1, -1,  1,  1,  1,  1, -1,  1,  1,  1,  1,  1,  1,  1,\n",
       "        1,  1, -1, -1,  1,  1,  1,  1,  1,  1,  1,  1,  1, -1,  1, -1,  1,\n",
       "        1,  1, -1,  1,  1, -1,  1,  1, -1, -1,  1, -1,  1, -1,  1,  1,  1,\n",
       "       -1,  1,  1,  1,  1,  1,  1,  1,  1,  1,  1,  1,  1,  1,  1,  1,  1,\n",
       "        1, -1,  1,  1,  1,  1,  1, -1,  1,  1,  1,  1, -1,  1, -1,  1,  1,\n",
       "        1,  1, -1,  1,  1,  1,  1,  1, -1,  1,  1,  1,  1,  1,  1, -1, -1,\n",
       "        1,  1, -1, -1,  1, -1, -1,  1,  1,  1,  1,  1, -1,  1,  1, -1,  1,\n",
       "       -1,  1, -1,  1,  1,  1,  1, -1, -1, -1,  1,  1, -1,  1,  1, -1, -1,\n",
       "       -1,  1,  1,  1, -1,  1,  1,  1,  1,  1,  1,  1,  1,  1,  1,  1, -1,\n",
       "       -1, -1, -1,  1,  1,  1, -1, -1, -1,  1,  1,  1, -1,  1,  1,  1,  1,\n",
       "       -1, -1,  1,  1,  1, -1,  1,  1,  1, -1,  1, -1,  1, -1,  1,  1,  1,\n",
       "        1,  1,  1,  1,  1,  1, -1,  1,  1, -1,  1,  1,  1,  1,  1, -1,  1,\n",
       "       -1,  1, -1, -1,  1,  1,  1, -1, -1,  1,  1,  1,  1,  1,  1,  1,  1,\n",
       "        1,  1,  1, -1,  1,  1, -1, -1,  1,  1,  1, -1,  1, -1,  1,  1, -1,\n",
       "        1,  1,  1,  1,  1, -1, -1,  1,  1,  1,  1, -1,  1,  1, -1,  1,  1,\n",
       "       -1,  1, -1,  1, -1, -1,  1,  1,  1, -1, -1,  1,  1, -1,  1,  1, -1,\n",
       "        1,  1,  1,  1,  1,  1,  1, -1,  1,  1,  1, -1,  1,  1, -1,  1,  1,\n",
       "        1,  1,  1,  1, -1,  1, -1,  1, -1, -1,  1,  1,  1, -1,  1,  1, -1,\n",
       "        1,  1,  1,  1,  1,  1,  1,  1, -1,  1, -1,  1, -1,  1,  1, -1,  1,\n",
       "       -1, -1, -1, -1, -1,  1, -1,  1,  1,  1,  1,  1,  1,  1,  1,  1,  1,\n",
       "       -1,  1, -1,  1,  1,  1,  1, -1,  1,  1, -1,  1, -1, -1,  1,  1,  1,\n",
       "        1, -1, -1,  1,  1, -1,  1,  1,  1,  1,  1,  1,  1, -1,  1, -1,  1,\n",
       "        1,  1, -1, -1,  1, -1,  1,  1,  1, -1, -1, -1,  1,  1,  1,  1,  1,\n",
       "        1, -1, -1, -1,  1, -1,  1, -1, -1,  1,  1,  1,  1, -1,  1,  1,  1,\n",
       "        1,  1,  1,  1,  1,  1,  1,  1,  1,  1, -1,  1,  1,  1,  1,  1,  1,\n",
       "       -1, -1,  1,  1, -1,  1, -1, -1,  1,  1,  1,  1,  1,  1,  1,  1,  1,\n",
       "        1,  1,  1,  1, -1, -1,  1,  1,  1, -1,  1,  1, -1,  1, -1,  1,  1,\n",
       "        1,  1,  1,  1, -1,  1,  1,  1,  1, -1,  1,  1,  1,  1,  1,  1,  1,\n",
       "        1,  1,  1,  1,  1,  1,  1,  1, -1, -1,  1,  1, -1,  1, -1,  1,  1,\n",
       "        1,  1,  1,  1,  1,  1,  1,  1,  1,  1,  1,  1,  1,  1, -1,  1,  1,\n",
       "        1, -1, -1, -1,  1,  1,  1, -1,  1,  1, -1, -1, -1,  1, -1,  1,  1,\n",
       "        1,  1, -1, -1,  1,  1,  1,  1,  1,  1,  1,  1, -1, -1,  1,  1,  1,\n",
       "        1,  1,  1, -1,  1,  1, -1,  1,  1, -1, -1,  1, -1,  1, -1,  1,  1,\n",
       "        1, -1, -1,  1,  1,  1,  1,  1,  1, -1,  1, -1, -1,  1, -1,  1,  1,\n",
       "        1,  1, -1,  1,  1, -1,  1,  1, -1, -1, -1,  1, -1, -1,  1,  1,  1,\n",
       "       -1,  1,  1,  1,  1,  1, -1,  1,  1, -1,  1,  1,  1, -1,  1, -1,  1,\n",
       "       -1,  1, -1, -1,  1,  1,  1, -1,  1,  1,  1,  1,  1,  1,  1,  1,  1,\n",
       "        1,  1,  1, -1,  1,  1,  1, -1,  1, -1, -1, -1, -1,  1,  1,  1,  1,\n",
       "       -1,  1, -1, -1, -1,  1, -1,  1,  1,  1,  1,  1,  1, -1,  1, -1, -1,\n",
       "        1,  1,  1,  1,  1, -1,  1,  1,  1,  1,  1,  1,  1,  1,  1,  1,  1,\n",
       "        1,  1,  1,  1,  1,  1,  1,  1,  1,  1,  1, -1, -1, -1,  1,  1, -1,\n",
       "        1,  1,  1,  1,  1,  1,  1,  1,  1,  1,  1,  1,  1,  1,  1,  1,  1,\n",
       "       -1,  1,  1, -1,  1, -1, -1, -1,  1, -1, -1,  1,  1,  1,  1,  1,  1,\n",
       "        1,  1, -1,  1,  1,  1,  1,  1,  1,  1,  1,  1,  1,  1, -1,  1, -1,\n",
       "        1,  1,  1, -1, -1,  1, -1,  1,  1, -1, -1,  1,  1,  1,  1,  1,  1,\n",
       "        1,  1,  1, -1,  1,  1,  1,  1,  1,  1, -1,  1,  1,  1,  1,  1,  1,\n",
       "        1,  1,  1,  1,  1,  1,  1,  1,  1, -1,  1,  1,  1,  1, -1,  1,  1,\n",
       "        1,  1, -1,  1,  1,  1,  1,  1,  1,  1,  1,  1,  1,  1, -1,  1, -1,\n",
       "        1,  1,  1,  1,  1,  1,  1,  1,  1, -1,  1,  1,  1,  1,  1,  1, -1,\n",
       "        1,  1,  1,  1,  1, -1,  1,  1,  1,  1,  1, -1,  1,  1,  1,  1,  1,\n",
       "        1,  1,  1,  1,  1,  1,  1,  1,  1,  1, -1,  1,  1,  1,  1,  1,  1,\n",
       "        1,  1, -1,  1,  1,  1,  1,  1,  1,  1,  1,  1,  1, -1,  1, -1,  1,\n",
       "        1,  1,  1,  1,  1,  1, -1,  1, -1,  1, -1,  1,  1,  1,  1, -1,  1,\n",
       "       -1,  1,  1,  1,  1,  1, -1,  1,  1, -1,  1,  1, -1,  1,  1,  1,  1,\n",
       "       -1,  1,  1, -1,  1,  1,  1,  1,  1,  1,  1, -1, -1, -1,  1,  1,  1,\n",
       "        1,  1,  1,  1,  1,  1,  1,  1,  1,  1,  1,  1, -1,  1,  1,  1, -1,\n",
       "        1, -1,  1,  1,  1, -1,  1, -1,  1,  1,  1,  1,  1,  1,  1,  1,  1,\n",
       "        1, -1,  1, -1,  1,  1,  1,  1,  1, -1,  1,  1,  1,  1, -1, -1,  1,\n",
       "        1,  1, -1,  1,  1,  1, -1, -1,  1,  1,  1,  1,  1,  1,  1,  1,  1,\n",
       "       -1,  1,  1,  1,  1,  1,  1,  1, -1,  1,  1, -1, -1,  1, -1,  1,  1,\n",
       "        1,  1, -1,  1, -1,  1,  1,  1,  1,  1,  1,  1,  1,  1,  1,  1,  1,\n",
       "       -1,  1,  1,  1,  1,  1,  1,  1, -1,  1,  1, -1, -1,  1, -1,  1,  1,\n",
       "       -1, -1,  1,  1, -1,  1,  1, -1,  1,  1,  1,  1, -1, -1,  1,  1,  1,\n",
       "       -1,  1, -1,  1, -1, -1,  1,  1,  1, -1,  1,  1,  1,  1,  1, -1,  1,\n",
       "        1,  1,  1, -1,  1,  1, -1, -1, -1,  1,  1, -1,  1,  1,  1,  1,  1,\n",
       "        1,  1,  1,  1,  1,  1,  1,  1,  1, -1,  1,  1,  1,  1,  1,  1,  1,\n",
       "        1,  1,  1,  1,  1, -1,  1,  1,  1,  1,  1,  1,  1,  1,  1,  1,  1,\n",
       "       -1,  1,  1, -1, -1, -1,  1,  1,  1,  1,  1,  1, -1,  1,  1,  1, -1,\n",
       "        1,  1,  1,  1,  1,  1, -1,  1, -1,  1,  1,  1,  1,  1,  1,  1,  1,\n",
       "        1,  1,  1,  1,  1,  1,  1,  1,  1,  1,  1,  1,  1,  1, -1,  1,  1,\n",
       "        1,  1,  1, -1, -1,  1,  1, -1,  1,  1, -1, -1,  1,  1,  1,  1,  1,\n",
       "        1, -1,  1,  1,  1,  1,  1,  1, -1,  1,  1, -1, -1,  1,  1,  1,  1,\n",
       "       -1,  1,  1,  1,  1,  1,  1,  1,  1,  1, -1, -1,  1,  1,  1, -1, -1,\n",
       "        1,  1,  1,  1,  1,  1, -1,  1,  1,  1,  1,  1,  1,  1,  1, -1,  1,\n",
       "        1, -1, -1,  1, -1,  1,  1,  1,  1,  1, -1,  1,  1, -1,  1,  1,  1,\n",
       "        1, -1, -1,  1,  1, -1,  1, -1, -1,  1,  1, -1,  1,  1,  1, -1,  1,\n",
       "       -1,  1, -1, -1,  1,  1,  1,  1,  1, -1,  1,  1,  1,  1, -1,  1,  1,\n",
       "        1, -1,  1,  1,  1,  1, -1,  1,  1,  1,  1,  1,  1,  1,  1,  1, -1,\n",
       "        1,  1,  1,  1,  1,  1,  1, -1,  1,  1,  1,  1,  1, -1,  1,  1,  1,\n",
       "        1,  1,  1,  1,  1,  1,  1,  1,  1,  1,  1,  1,  1,  1, -1,  1,  1,\n",
       "        1,  1,  1,  1,  1,  1,  1, -1,  1,  1,  1,  1, -1,  1,  1,  1,  1,\n",
       "        1, -1,  1,  1,  1,  1,  1,  1, -1, -1, -1,  1,  1,  1, -1,  1,  1,\n",
       "        1,  1,  1, -1,  1,  1, -1,  1,  1,  1, -1,  1, -1,  1,  1,  1,  1,\n",
       "       -1, -1, -1, -1, -1,  1,  1, -1,  1, -1,  1, -1,  1,  1, -1,  1, -1,\n",
       "       -1,  1, -1,  1,  1,  1, -1,  1,  1,  1, -1,  1,  1,  1,  1,  1,  1,\n",
       "       -1,  1,  1, -1, -1,  1,  1,  1,  1,  1,  1,  1,  1,  1,  1,  1,  1,\n",
       "        1, -1, -1, -1, -1, -1,  1, -1, -1,  1, -1, -1,  1,  1,  1,  1,  1,\n",
       "        1,  1, -1,  1,  1,  1, -1,  1, -1, -1,  1, -1,  1,  1,  1,  1,  1,\n",
       "       -1,  1, -1, -1, -1,  1,  1,  1,  1,  1,  1,  1,  1, -1,  1, -1, -1,\n",
       "       -1,  1,  1,  1,  1,  1,  1, -1,  1, -1, -1, -1,  1,  1, -1, -1, -1,\n",
       "       -1, -1, -1,  1, -1,  1, -1, -1, -1,  1,  1,  1,  1,  1, -1,  1,  1,\n",
       "        1,  1,  1,  1,  1,  1,  1, -1,  1, -1,  1,  1, -1, -1, -1,  1, -1,\n",
       "        1,  1, -1,  1, -1,  1,  1, -1, -1,  1, -1,  1,  1,  1, -1, -1,  1,\n",
       "        1,  1])"
      ]
     },
     "execution_count": 148,
     "metadata": {},
     "output_type": "execute_result"
    }
   ],
   "source": [
    "if_preds"
   ]
  },
  {
   "cell_type": "code",
   "execution_count": 144,
   "metadata": {},
   "outputs": [
    {
     "data": {
      "text/plain": [
       "array([[2354.,  827.],\n",
       "       [ 832., 2277.]])"
      ]
     },
     "execution_count": 144,
     "metadata": {},
     "output_type": "execute_result"
    }
   ],
   "source": [
    "matrix_C2"
   ]
  },
  {
   "cell_type": "code",
   "execution_count": 145,
   "metadata": {},
   "outputs": [
    {
     "data": {
      "text/plain": [
       "array([[2326.,  855.],\n",
       "       [ 836., 2273.]])"
      ]
     },
     "execution_count": 145,
     "metadata": {},
     "output_type": "execute_result"
    }
   ],
   "source": [
    "matrix_C"
   ]
  },
  {
   "cell_type": "code",
   "execution_count": 147,
   "metadata": {},
   "outputs": [
    {
     "data": {
      "text/plain": [
       "array([178.85714562,  58.3779431 ,  42.94417218,  34.17557117,\n",
       "        32.27334114,  26.73017298,  22.84105869,  15.34585021,\n",
       "        14.49041625,  13.75316385,  12.31265011,  11.90621119,\n",
       "         9.34946096,   8.71851921,   7.96359684,   7.48074373,\n",
       "         6.97660189,   5.9084228 ,   5.81055925,   5.33499104,\n",
       "         4.91925163,   4.80855012,   4.29800536,   4.20065066,\n",
       "         4.01974822,   3.96580374,   3.84788682,   3.56799928,\n",
       "         3.4067436 ,   3.29734877,   3.15128128,   3.13091362,\n",
       "         2.90012237,   2.81936424,   2.7602979 ,   2.67097874,\n",
       "         2.62276344,   2.57723358,   2.55124719,   2.39297848,\n",
       "         2.35232088,   2.16998762,   2.15612713,   2.07988373,\n",
       "         2.04621518,   1.99609691,   1.88198024,   1.81534615,\n",
       "         1.79086727,   1.74533732,   1.72265609,   1.70073265,\n",
       "         1.67143591,   1.64180538,   1.59396173,   1.55464071,\n",
       "         1.51715715,   1.49826667,   1.4620351 ,   1.42798302,\n",
       "         1.4019206 ,   1.37156882,   1.34998358,   1.33432001,\n",
       "         1.31543466,   1.27226167,   1.24486538,   1.21909369,\n",
       "         1.16847789,   1.14308653,   1.12336845,   1.11142875,\n",
       "         1.09112074,   1.08413134,   1.07338703,   1.0566993 ,\n",
       "         1.03964873,   1.02587679,   1.00916234,   0.99434866])"
      ]
     },
     "execution_count": 147,
     "metadata": {},
     "output_type": "execute_result"
    }
   ],
   "source": [
    "pca.explained_variance_[:80]"
   ]
  },
  {
   "cell_type": "code",
   "execution_count": null,
   "metadata": {},
   "outputs": [],
   "source": [
    "from sklearn.externals import joblib\n",
    "import pickle\n",
    "\n",
    "fid = open('Save Models/Clasificador_de_caras.joblib.pkl', 'rb')\n",
    "joblib_Model = joblib.load(fid)\n",
    "PrediccionTest = joblib_Model.predict(X_test)"
   ]
  },
  {
   "cell_type": "code",
   "execution_count": null,
   "metadata": {},
   "outputs": [],
   "source": [
    "PrediccionTest"
   ]
  }
 ],
 "metadata": {
  "kernelspec": {
   "display_name": "Python 3",
   "language": "python",
   "name": "python3"
  },
  "language_info": {
   "codemirror_mode": {
    "name": "ipython",
    "version": 3
   },
   "file_extension": ".py",
   "mimetype": "text/x-python",
   "name": "python",
   "nbconvert_exporter": "python",
   "pygments_lexer": "ipython3",
   "version": "3.6.8"
  }
 },
 "nbformat": 4,
 "nbformat_minor": 2
}
